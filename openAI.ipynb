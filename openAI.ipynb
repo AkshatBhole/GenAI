{
 "cells": [
  {
   "cell_type": "code",
   "execution_count": 4,
   "id": "20913ff8",
   "metadata": {},
   "outputs": [
    {
     "name": "stdout",
     "output_type": "stream",
     "text": [
      "Requirement already satisfied: google-generativeai in e:\\gen-ai\\env\\lib\\site-packages (0.8.5)\n",
      "Collecting google-ai-generativelanguage==0.6.15 (from google-generativeai)\n",
      "  Using cached google_ai_generativelanguage-0.6.15-py3-none-any.whl.metadata (5.7 kB)\n",
      "Requirement already satisfied: google-api-core in e:\\gen-ai\\env\\lib\\site-packages (from google-generativeai) (2.25.1)\n",
      "Requirement already satisfied: google-api-python-client in e:\\gen-ai\\env\\lib\\site-packages (from google-generativeai) (2.179.0)\n",
      "Requirement already satisfied: google-auth>=2.15.0 in e:\\gen-ai\\env\\lib\\site-packages (from google-generativeai) (2.40.3)\n",
      "Requirement already satisfied: protobuf in e:\\gen-ai\\env\\lib\\site-packages (from google-generativeai) (5.29.5)\n",
      "Requirement already satisfied: pydantic in e:\\gen-ai\\env\\lib\\site-packages (from google-generativeai) (2.11.7)\n",
      "Requirement already satisfied: tqdm in e:\\gen-ai\\env\\lib\\site-packages (from google-generativeai) (4.67.1)\n",
      "Requirement already satisfied: typing-extensions in e:\\gen-ai\\env\\lib\\site-packages (from google-generativeai) (4.14.1)\n",
      "Requirement already satisfied: proto-plus<2.0.0dev,>=1.22.3 in e:\\gen-ai\\env\\lib\\site-packages (from google-ai-generativelanguage==0.6.15->google-generativeai) (1.26.1)\n",
      "Requirement already satisfied: googleapis-common-protos<2.0.0,>=1.56.2 in e:\\gen-ai\\env\\lib\\site-packages (from google-api-core->google-generativeai) (1.70.0)\n",
      "Requirement already satisfied: requests<3.0.0,>=2.18.0 in e:\\gen-ai\\env\\lib\\site-packages (from google-api-core->google-generativeai) (2.32.4)\n",
      "Requirement already satisfied: grpcio<2.0.0,>=1.33.2 in e:\\gen-ai\\env\\lib\\site-packages (from google-api-core[grpc]!=2.0.*,!=2.1.*,!=2.10.*,!=2.2.*,!=2.3.*,!=2.4.*,!=2.5.*,!=2.6.*,!=2.7.*,!=2.8.*,!=2.9.*,<3.0.0dev,>=1.34.1->google-ai-generativelanguage==0.6.15->google-generativeai) (1.74.0)\n",
      "Requirement already satisfied: grpcio-status<2.0.0,>=1.33.2 in e:\\gen-ai\\env\\lib\\site-packages (from google-api-core[grpc]!=2.0.*,!=2.1.*,!=2.10.*,!=2.2.*,!=2.3.*,!=2.4.*,!=2.5.*,!=2.6.*,!=2.7.*,!=2.8.*,!=2.9.*,<3.0.0dev,>=1.34.1->google-ai-generativelanguage==0.6.15->google-generativeai) (1.71.2)\n",
      "Requirement already satisfied: cachetools<6.0,>=2.0.0 in e:\\gen-ai\\env\\lib\\site-packages (from google-auth>=2.15.0->google-generativeai) (5.5.2)\n",
      "Requirement already satisfied: pyasn1-modules>=0.2.1 in e:\\gen-ai\\env\\lib\\site-packages (from google-auth>=2.15.0->google-generativeai) (0.4.2)\n",
      "Requirement already satisfied: rsa<5,>=3.1.4 in e:\\gen-ai\\env\\lib\\site-packages (from google-auth>=2.15.0->google-generativeai) (4.9.1)\n",
      "Requirement already satisfied: charset_normalizer<4,>=2 in e:\\gen-ai\\env\\lib\\site-packages (from requests<3.0.0,>=2.18.0->google-api-core->google-generativeai) (3.4.3)\n",
      "Requirement already satisfied: idna<4,>=2.5 in e:\\gen-ai\\env\\lib\\site-packages (from requests<3.0.0,>=2.18.0->google-api-core->google-generativeai) (3.10)\n",
      "Requirement already satisfied: urllib3<3,>=1.21.1 in e:\\gen-ai\\env\\lib\\site-packages (from requests<3.0.0,>=2.18.0->google-api-core->google-generativeai) (2.5.0)\n",
      "Requirement already satisfied: certifi>=2017.4.17 in e:\\gen-ai\\env\\lib\\site-packages (from requests<3.0.0,>=2.18.0->google-api-core->google-generativeai) (2025.8.3)\n",
      "Requirement already satisfied: pyasn1>=0.1.3 in e:\\gen-ai\\env\\lib\\site-packages (from rsa<5,>=3.1.4->google-auth>=2.15.0->google-generativeai) (0.6.1)\n",
      "Requirement already satisfied: httplib2<1.0.0,>=0.19.0 in e:\\gen-ai\\env\\lib\\site-packages (from google-api-python-client->google-generativeai) (0.22.0)\n",
      "Requirement already satisfied: google-auth-httplib2<1.0.0,>=0.2.0 in e:\\gen-ai\\env\\lib\\site-packages (from google-api-python-client->google-generativeai) (0.2.0)\n",
      "Requirement already satisfied: uritemplate<5,>=3.0.1 in e:\\gen-ai\\env\\lib\\site-packages (from google-api-python-client->google-generativeai) (4.2.0)\n",
      "Requirement already satisfied: pyparsing!=3.0.0,!=3.0.1,!=3.0.2,!=3.0.3,<4,>=2.4.2 in e:\\gen-ai\\env\\lib\\site-packages (from httplib2<1.0.0,>=0.19.0->google-api-python-client->google-generativeai) (3.2.3)\n",
      "Requirement already satisfied: annotated-types>=0.6.0 in e:\\gen-ai\\env\\lib\\site-packages (from pydantic->google-generativeai) (0.7.0)\n",
      "Requirement already satisfied: pydantic-core==2.33.2 in e:\\gen-ai\\env\\lib\\site-packages (from pydantic->google-generativeai) (2.33.2)\n",
      "Requirement already satisfied: typing-inspection>=0.4.0 in e:\\gen-ai\\env\\lib\\site-packages (from pydantic->google-generativeai) (0.4.1)\n",
      "Requirement already satisfied: colorama in e:\\gen-ai\\env\\lib\\site-packages (from tqdm->google-generativeai) (0.4.6)\n",
      "Using cached google_ai_generativelanguage-0.6.15-py3-none-any.whl (1.3 MB)\n",
      "Installing collected packages: google-ai-generativelanguage\n",
      "  Attempting uninstall: google-ai-generativelanguage\n",
      "    Found existing installation: google-ai-generativelanguage 0.6.18\n",
      "    Uninstalling google-ai-generativelanguage-0.6.18:\n",
      "      Successfully uninstalled google-ai-generativelanguage-0.6.18\n",
      "Successfully installed google-ai-generativelanguage-0.6.15\n"
     ]
    },
    {
     "name": "stderr",
     "output_type": "stream",
     "text": [
      "ERROR: pip's dependency resolver does not currently take into account all the packages that are installed. This behaviour is the source of the following dependency conflicts.\n",
      "langchain-google-genai 2.1.9 requires google-ai-generativelanguage<0.7.0,>=0.6.18, but you have google-ai-generativelanguage 0.6.15 which is incompatible.\n",
      "\n",
      "[notice] A new release of pip is available: 25.1.1 -> 25.2\n",
      "[notice] To update, run: python.exe -m pip install --upgrade pip\n"
     ]
    }
   ],
   "source": [
    "! pip install google-generativeai\n"
   ]
  },
  {
   "cell_type": "code",
   "execution_count": 5,
   "id": "61a7b967",
   "metadata": {},
   "outputs": [
    {
     "name": "stdout",
     "output_type": "stream",
     "text": [
      "Requirement already satisfied: langchain_google_genai in e:\\gen-ai\\env\\lib\\site-packages (2.1.9)\n",
      "Requirement already satisfied: filetype<2.0.0,>=1.2.0 in e:\\gen-ai\\env\\lib\\site-packages (from langchain_google_genai) (1.2.0)\n",
      "Collecting google-ai-generativelanguage<0.7.0,>=0.6.18 (from langchain_google_genai)\n",
      "  Using cached google_ai_generativelanguage-0.6.18-py3-none-any.whl.metadata (9.8 kB)\n",
      "Requirement already satisfied: langchain-core<0.4.0,>=0.3.68 in e:\\gen-ai\\env\\lib\\site-packages (from langchain_google_genai) (0.3.74)\n",
      "Requirement already satisfied: pydantic<3,>=2 in e:\\gen-ai\\env\\lib\\site-packages (from langchain_google_genai) (2.11.7)\n",
      "Requirement already satisfied: google-api-core!=2.0.*,!=2.1.*,!=2.10.*,!=2.2.*,!=2.3.*,!=2.4.*,!=2.5.*,!=2.6.*,!=2.7.*,!=2.8.*,!=2.9.*,<3.0.0,>=1.34.1 in e:\\gen-ai\\env\\lib\\site-packages (from google-api-core[grpc]!=2.0.*,!=2.1.*,!=2.10.*,!=2.2.*,!=2.3.*,!=2.4.*,!=2.5.*,!=2.6.*,!=2.7.*,!=2.8.*,!=2.9.*,<3.0.0,>=1.34.1->google-ai-generativelanguage<0.7.0,>=0.6.18->langchain_google_genai) (2.25.1)\n",
      "Requirement already satisfied: google-auth!=2.24.0,!=2.25.0,<3.0.0,>=2.14.1 in e:\\gen-ai\\env\\lib\\site-packages (from google-ai-generativelanguage<0.7.0,>=0.6.18->langchain_google_genai) (2.40.3)\n",
      "Requirement already satisfied: proto-plus<2.0.0,>=1.22.3 in e:\\gen-ai\\env\\lib\\site-packages (from google-ai-generativelanguage<0.7.0,>=0.6.18->langchain_google_genai) (1.26.1)\n",
      "Requirement already satisfied: protobuf!=4.21.0,!=4.21.1,!=4.21.2,!=4.21.3,!=4.21.4,!=4.21.5,<7.0.0,>=3.20.2 in e:\\gen-ai\\env\\lib\\site-packages (from google-ai-generativelanguage<0.7.0,>=0.6.18->langchain_google_genai) (5.29.5)\n",
      "Requirement already satisfied: googleapis-common-protos<2.0.0,>=1.56.2 in e:\\gen-ai\\env\\lib\\site-packages (from google-api-core!=2.0.*,!=2.1.*,!=2.10.*,!=2.2.*,!=2.3.*,!=2.4.*,!=2.5.*,!=2.6.*,!=2.7.*,!=2.8.*,!=2.9.*,<3.0.0,>=1.34.1->google-api-core[grpc]!=2.0.*,!=2.1.*,!=2.10.*,!=2.2.*,!=2.3.*,!=2.4.*,!=2.5.*,!=2.6.*,!=2.7.*,!=2.8.*,!=2.9.*,<3.0.0,>=1.34.1->google-ai-generativelanguage<0.7.0,>=0.6.18->langchain_google_genai) (1.70.0)\n",
      "Requirement already satisfied: requests<3.0.0,>=2.18.0 in e:\\gen-ai\\env\\lib\\site-packages (from google-api-core!=2.0.*,!=2.1.*,!=2.10.*,!=2.2.*,!=2.3.*,!=2.4.*,!=2.5.*,!=2.6.*,!=2.7.*,!=2.8.*,!=2.9.*,<3.0.0,>=1.34.1->google-api-core[grpc]!=2.0.*,!=2.1.*,!=2.10.*,!=2.2.*,!=2.3.*,!=2.4.*,!=2.5.*,!=2.6.*,!=2.7.*,!=2.8.*,!=2.9.*,<3.0.0,>=1.34.1->google-ai-generativelanguage<0.7.0,>=0.6.18->langchain_google_genai) (2.32.4)\n",
      "Requirement already satisfied: grpcio<2.0.0,>=1.33.2 in e:\\gen-ai\\env\\lib\\site-packages (from google-api-core[grpc]!=2.0.*,!=2.1.*,!=2.10.*,!=2.2.*,!=2.3.*,!=2.4.*,!=2.5.*,!=2.6.*,!=2.7.*,!=2.8.*,!=2.9.*,<3.0.0,>=1.34.1->google-ai-generativelanguage<0.7.0,>=0.6.18->langchain_google_genai) (1.74.0)\n",
      "Requirement already satisfied: grpcio-status<2.0.0,>=1.33.2 in e:\\gen-ai\\env\\lib\\site-packages (from google-api-core[grpc]!=2.0.*,!=2.1.*,!=2.10.*,!=2.2.*,!=2.3.*,!=2.4.*,!=2.5.*,!=2.6.*,!=2.7.*,!=2.8.*,!=2.9.*,<3.0.0,>=1.34.1->google-ai-generativelanguage<0.7.0,>=0.6.18->langchain_google_genai) (1.71.2)\n",
      "Requirement already satisfied: cachetools<6.0,>=2.0.0 in e:\\gen-ai\\env\\lib\\site-packages (from google-auth!=2.24.0,!=2.25.0,<3.0.0,>=2.14.1->google-ai-generativelanguage<0.7.0,>=0.6.18->langchain_google_genai) (5.5.2)\n",
      "Requirement already satisfied: pyasn1-modules>=0.2.1 in e:\\gen-ai\\env\\lib\\site-packages (from google-auth!=2.24.0,!=2.25.0,<3.0.0,>=2.14.1->google-ai-generativelanguage<0.7.0,>=0.6.18->langchain_google_genai) (0.4.2)\n",
      "Requirement already satisfied: rsa<5,>=3.1.4 in e:\\gen-ai\\env\\lib\\site-packages (from google-auth!=2.24.0,!=2.25.0,<3.0.0,>=2.14.1->google-ai-generativelanguage<0.7.0,>=0.6.18->langchain_google_genai) (4.9.1)\n",
      "Requirement already satisfied: langsmith>=0.3.45 in e:\\gen-ai\\env\\lib\\site-packages (from langchain-core<0.4.0,>=0.3.68->langchain_google_genai) (0.4.14)\n",
      "Requirement already satisfied: tenacity!=8.4.0,<10.0.0,>=8.1.0 in e:\\gen-ai\\env\\lib\\site-packages (from langchain-core<0.4.0,>=0.3.68->langchain_google_genai) (9.1.2)\n",
      "Requirement already satisfied: jsonpatch<2.0,>=1.33 in e:\\gen-ai\\env\\lib\\site-packages (from langchain-core<0.4.0,>=0.3.68->langchain_google_genai) (1.33)\n",
      "Requirement already satisfied: PyYAML>=5.3 in e:\\gen-ai\\env\\lib\\site-packages (from langchain-core<0.4.0,>=0.3.68->langchain_google_genai) (6.0.2)\n",
      "Requirement already satisfied: typing-extensions>=4.7 in e:\\gen-ai\\env\\lib\\site-packages (from langchain-core<0.4.0,>=0.3.68->langchain_google_genai) (4.14.1)\n",
      "Requirement already satisfied: packaging>=23.2 in e:\\gen-ai\\env\\lib\\site-packages (from langchain-core<0.4.0,>=0.3.68->langchain_google_genai) (25.0)\n",
      "Requirement already satisfied: jsonpointer>=1.9 in e:\\gen-ai\\env\\lib\\site-packages (from jsonpatch<2.0,>=1.33->langchain-core<0.4.0,>=0.3.68->langchain_google_genai) (3.0.0)\n",
      "Requirement already satisfied: annotated-types>=0.6.0 in e:\\gen-ai\\env\\lib\\site-packages (from pydantic<3,>=2->langchain_google_genai) (0.7.0)\n",
      "Requirement already satisfied: pydantic-core==2.33.2 in e:\\gen-ai\\env\\lib\\site-packages (from pydantic<3,>=2->langchain_google_genai) (2.33.2)\n",
      "Requirement already satisfied: typing-inspection>=0.4.0 in e:\\gen-ai\\env\\lib\\site-packages (from pydantic<3,>=2->langchain_google_genai) (0.4.1)\n",
      "Requirement already satisfied: charset_normalizer<4,>=2 in e:\\gen-ai\\env\\lib\\site-packages (from requests<3.0.0,>=2.18.0->google-api-core!=2.0.*,!=2.1.*,!=2.10.*,!=2.2.*,!=2.3.*,!=2.4.*,!=2.5.*,!=2.6.*,!=2.7.*,!=2.8.*,!=2.9.*,<3.0.0,>=1.34.1->google-api-core[grpc]!=2.0.*,!=2.1.*,!=2.10.*,!=2.2.*,!=2.3.*,!=2.4.*,!=2.5.*,!=2.6.*,!=2.7.*,!=2.8.*,!=2.9.*,<3.0.0,>=1.34.1->google-ai-generativelanguage<0.7.0,>=0.6.18->langchain_google_genai) (3.4.3)\n",
      "Requirement already satisfied: idna<4,>=2.5 in e:\\gen-ai\\env\\lib\\site-packages (from requests<3.0.0,>=2.18.0->google-api-core!=2.0.*,!=2.1.*,!=2.10.*,!=2.2.*,!=2.3.*,!=2.4.*,!=2.5.*,!=2.6.*,!=2.7.*,!=2.8.*,!=2.9.*,<3.0.0,>=1.34.1->google-api-core[grpc]!=2.0.*,!=2.1.*,!=2.10.*,!=2.2.*,!=2.3.*,!=2.4.*,!=2.5.*,!=2.6.*,!=2.7.*,!=2.8.*,!=2.9.*,<3.0.0,>=1.34.1->google-ai-generativelanguage<0.7.0,>=0.6.18->langchain_google_genai) (3.10)\n",
      "Requirement already satisfied: urllib3<3,>=1.21.1 in e:\\gen-ai\\env\\lib\\site-packages (from requests<3.0.0,>=2.18.0->google-api-core!=2.0.*,!=2.1.*,!=2.10.*,!=2.2.*,!=2.3.*,!=2.4.*,!=2.5.*,!=2.6.*,!=2.7.*,!=2.8.*,!=2.9.*,<3.0.0,>=1.34.1->google-api-core[grpc]!=2.0.*,!=2.1.*,!=2.10.*,!=2.2.*,!=2.3.*,!=2.4.*,!=2.5.*,!=2.6.*,!=2.7.*,!=2.8.*,!=2.9.*,<3.0.0,>=1.34.1->google-ai-generativelanguage<0.7.0,>=0.6.18->langchain_google_genai) (2.5.0)\n",
      "Requirement already satisfied: certifi>=2017.4.17 in e:\\gen-ai\\env\\lib\\site-packages (from requests<3.0.0,>=2.18.0->google-api-core!=2.0.*,!=2.1.*,!=2.10.*,!=2.2.*,!=2.3.*,!=2.4.*,!=2.5.*,!=2.6.*,!=2.7.*,!=2.8.*,!=2.9.*,<3.0.0,>=1.34.1->google-api-core[grpc]!=2.0.*,!=2.1.*,!=2.10.*,!=2.2.*,!=2.3.*,!=2.4.*,!=2.5.*,!=2.6.*,!=2.7.*,!=2.8.*,!=2.9.*,<3.0.0,>=1.34.1->google-ai-generativelanguage<0.7.0,>=0.6.18->langchain_google_genai) (2025.8.3)\n",
      "Requirement already satisfied: pyasn1>=0.1.3 in e:\\gen-ai\\env\\lib\\site-packages (from rsa<5,>=3.1.4->google-auth!=2.24.0,!=2.25.0,<3.0.0,>=2.14.1->google-ai-generativelanguage<0.7.0,>=0.6.18->langchain_google_genai) (0.6.1)\n",
      "Requirement already satisfied: httpx<1,>=0.23.0 in e:\\gen-ai\\env\\lib\\site-packages (from langsmith>=0.3.45->langchain-core<0.4.0,>=0.3.68->langchain_google_genai) (0.28.1)\n",
      "Requirement already satisfied: orjson>=3.9.14 in e:\\gen-ai\\env\\lib\\site-packages (from langsmith>=0.3.45->langchain-core<0.4.0,>=0.3.68->langchain_google_genai) (3.11.2)\n",
      "Requirement already satisfied: requests-toolbelt>=1.0.0 in e:\\gen-ai\\env\\lib\\site-packages (from langsmith>=0.3.45->langchain-core<0.4.0,>=0.3.68->langchain_google_genai) (1.0.0)\n",
      "Requirement already satisfied: zstandard>=0.23.0 in e:\\gen-ai\\env\\lib\\site-packages (from langsmith>=0.3.45->langchain-core<0.4.0,>=0.3.68->langchain_google_genai) (0.23.0)\n",
      "Requirement already satisfied: anyio in e:\\gen-ai\\env\\lib\\site-packages (from httpx<1,>=0.23.0->langsmith>=0.3.45->langchain-core<0.4.0,>=0.3.68->langchain_google_genai) (4.10.0)\n",
      "Requirement already satisfied: httpcore==1.* in e:\\gen-ai\\env\\lib\\site-packages (from httpx<1,>=0.23.0->langsmith>=0.3.45->langchain-core<0.4.0,>=0.3.68->langchain_google_genai) (1.0.9)\n",
      "Requirement already satisfied: h11>=0.16 in e:\\gen-ai\\env\\lib\\site-packages (from httpcore==1.*->httpx<1,>=0.23.0->langsmith>=0.3.45->langchain-core<0.4.0,>=0.3.68->langchain_google_genai) (0.16.0)\n",
      "Requirement already satisfied: sniffio>=1.1 in e:\\gen-ai\\env\\lib\\site-packages (from anyio->httpx<1,>=0.23.0->langsmith>=0.3.45->langchain-core<0.4.0,>=0.3.68->langchain_google_genai) (1.3.1)\n",
      "Using cached google_ai_generativelanguage-0.6.18-py3-none-any.whl (1.4 MB)\n",
      "Installing collected packages: google-ai-generativelanguage\n",
      "  Attempting uninstall: google-ai-generativelanguage\n",
      "    Found existing installation: google-ai-generativelanguage 0.6.15\n",
      "    Uninstalling google-ai-generativelanguage-0.6.15:\n",
      "      Successfully uninstalled google-ai-generativelanguage-0.6.15\n",
      "Successfully installed google-ai-generativelanguage-0.6.18\n"
     ]
    },
    {
     "name": "stderr",
     "output_type": "stream",
     "text": [
      "ERROR: pip's dependency resolver does not currently take into account all the packages that are installed. This behaviour is the source of the following dependency conflicts.\n",
      "google-generativeai 0.8.5 requires google-ai-generativelanguage==0.6.15, but you have google-ai-generativelanguage 0.6.18 which is incompatible.\n",
      "\n",
      "[notice] A new release of pip is available: 25.1.1 -> 25.2\n",
      "[notice] To update, run: python.exe -m pip install --upgrade pip\n"
     ]
    }
   ],
   "source": [
    "! pip install langchain_google_genai"
   ]
  },
  {
   "cell_type": "code",
   "execution_count": 6,
   "id": "f643ae35",
   "metadata": {},
   "outputs": [],
   "source": [
    "from secret_key import gemini_key\n",
    "import os\n",
    "\n",
    "# Set Gemini API key\n",
    "os.environ[\"GOOGLE_API_KEY\"] = gemini_key\n"
   ]
  },
  {
   "cell_type": "code",
   "execution_count": 7,
   "id": "2edc9495",
   "metadata": {},
   "outputs": [
    {
     "data": {
      "text/plain": [
       "'I want to open a restaurant for nagpur food. Suggest a fancy name for this.'"
      ]
     },
     "execution_count": 7,
     "metadata": {},
     "output_type": "execute_result"
    }
   ],
   "source": [
    "\n",
    "# Import Gemini LLM from LangChain\n",
    "from langchain_google_genai import ChatGoogleGenerativeAI\n",
    "from langchain.prompts import PromptTemplate\n",
    "\n",
    "# Initialize Gemini model\n",
    "llm = ChatGoogleGenerativeAI(model=\"gemini-1.5-flash\", temperature=0.6)\n",
    "\n",
    "prompt_template_name= PromptTemplate(\n",
    "    input_variables=[ \"cuisine\"],\n",
    "    template=\"I want to open a restaurant for {cuisine} food. Suggest a fancy name for this.\"\n",
    ")\n",
    "\n",
    "prompt_template_name.format(cuisine=\"nagpur\")\n"
   ]
  },
  {
   "cell_type": "code",
   "execution_count": 8,
   "id": "5ba901ad",
   "metadata": {},
   "outputs": [
    {
     "name": "stderr",
     "output_type": "stream",
     "text": [
      "C:\\Users\\ASUS\\AppData\\Local\\Temp\\ipykernel_22720\\4003947162.py:2: LangChainDeprecationWarning: The class `LLMChain` was deprecated in LangChain 0.1.17 and will be removed in 1.0. Use :meth:`~RunnableSequence, e.g., `prompt | llm`` instead.\n",
      "  name_chain = LLMChain(llm=llm, prompt=prompt_template_name)\n",
      "C:\\Users\\ASUS\\AppData\\Local\\Temp\\ipykernel_22720\\4003947162.py:3: LangChainDeprecationWarning: The method `Chain.run` was deprecated in langchain 0.1.0 and will be removed in 1.0. Use :meth:`~invoke` instead.\n",
      "  out=name_chain.run(cuisine=\"saoji\")\n"
     ]
    },
    {
     "data": {
      "text/plain": [
       "\"Here are some fancy names for a Saoji food restaurant, playing with different aspects of the cuisine and its origins:\\n\\n**Evoking Luxury & Sophistication:**\\n\\n* The Saffron Spice (referencing the vibrant color and spice profile)\\n* The Khandesh Kitchen (referencing the region of origin)\\n* Masala Mahal (Palace of Spices)\\n* The Royal Saoji\\n* Amber & Anise (referencing key spices and a luxurious feel)\\n* The Gilded Mortar (referencing spice grinding)\\n\\n\\n**Highlighting the Cuisine's Character:**\\n\\n* Saoji Secrets\\n* The Fiery Hearth (referencing the cooking style)\\n* The Spice Route (referencing the historical trade routes)\\n* Aangan (courtyard - suggesting a welcoming atmosphere)\\n* The Saoji Table\\n* Flavors of Khandesh\\n\\n\\n**Modern & Chic Names:**\\n\\n* Saoji & Co.\\n* Khandesh Eats\\n* Spice & Ember\\n* The Saoji Collective\\n* Saffron & Smoke\\n\\n\\n**Creative & Evocative Names:**\\n\\n* The Crimson Curry (referencing the rich color)\\n* Whispers of Khandesh\\n* The Aromatic Journey\\n\\n\\nWhen choosing, consider:\\n\\n* **Memorability:** Is it easy to remember and pronounce?\\n* **Availability:** Is the name and corresponding domain name available?\\n* **Target audience:** Does the name appeal to your desired clientele?\\n* **Branding:** Does the name reflect the overall feel and style of your restaurant?\\n\\n\\nI recommend checking for trademark availability before settling on a name.  Good luck with your restaurant!\""
      ]
     },
     "execution_count": 8,
     "metadata": {},
     "output_type": "execute_result"
    }
   ],
   "source": [
    "from langchain.chains import LLMChain\n",
    "name_chain = LLMChain(llm=llm, prompt=prompt_template_name)\n",
    "out=name_chain.run(cuisine=\"saoji\")\n",
    "out.format(cuisine=\"saoji\")\n"
   ]
  },
  {
   "cell_type": "code",
   "execution_count": 9,
   "id": "2a1f2506",
   "metadata": {},
   "outputs": [],
   "source": [
    "\n",
    "# Sequential Chain"
   ]
  },
  {
   "cell_type": "code",
   "execution_count": 10,
   "id": "f29b8c69",
   "metadata": {},
   "outputs": [],
   "source": [
    "llm = ChatGoogleGenerativeAI(model=\"gemini-1.5-flash\", temperature=0.6)\n",
    "\n",
    "prompt_template_name= PromptTemplate(\n",
    "    input_variables=[ \"cuisine\"],\n",
    "    template=\"I want to open a restaurant for {cuisine} food. Suggest a fancy name for this.\"\n",
    ")\n",
    "\n",
    "prompt_template_name.format(cuisine=\"nagpur\")\n",
    "\n",
    "name_chain = LLMChain(llm=llm, prompt=prompt_template_name)\n",
    "\n",
    "# 2nd chain -->\n",
    "\n",
    "llm = ChatGoogleGenerativeAI(model=\"gemini-1.5-flash\", temperature=0.6)\n",
    "\n",
    "prompt_template_name= PromptTemplate(\n",
    "    input_variables=[ \"restaurant_name\"],\n",
    "    template=\"suggest some menu items for {restaurant_name} food. Suggest a fancy name for this.\"\n",
    ")\n",
    "\n",
    "fooditem_chain = LLMChain(llm=llm, prompt=prompt_template_name)\n"
   ]
  },
  {
   "cell_type": "code",
   "execution_count": 11,
   "id": "633f5002",
   "metadata": {},
   "outputs": [
    {
     "name": "stdout",
     "output_type": "stream",
     "text": [
      "Let's create some fancy menu item names to match the elegant restaurant names you've suggested.  We'll categorize them for clarity, drawing inspiration from the restaurant names' themes:\n",
      "\n",
      "\n",
      "**Appetizers:**\n",
      "\n",
      "* **For \"The Saffron Thread,\" \"The Jewel of India,\" \"Maharaja's Table,\" \"The Royal Spice,\" \"Amber & Saffron,\" \"The Gilded Curry\":**\n",
      "    * Saffron-Infused Prawn Lollipops\n",
      "    * Jewel-Toned Vegetable Samosas with Mint Chutney\n",
      "    * Maharaja's Spiced Lamb Seekh Kebabs\n",
      "    * Royal Spiced Chicken Tikka with Saffron Aioli\n",
      "    * Amber-Glazed Paneer Bites with Chili-Lime Dip\n",
      "    * Gilded Cauliflower Fritters with Tamarind Glaze\n",
      "\n",
      "\n",
      "* **For \"Spice & Silk,\" \"The Emerald Cumin,\" \"Celestial Curry,\" \"The Golden Turmeric\":**\n",
      "    * Silk-Wrapped Vegetable Spring Rolls with Peanut Sauce\n",
      "    * Emerald Cumin-Crusted Lamb Chops\n",
      "    * Celestial Curry-Spiced Calamari\n",
      "    * Golden Turmeric-Marinated Tandoori Chicken\n",
      "\n",
      "\n",
      "* **For regional-themed names (Pavilion, Moghul Garden, Coastal Spice Route, Himalayan Hearth, Ganges Table):**\n",
      "    * Kashmir Saffron-Scented Fish (Kashmir Pavilion)\n",
      "    * Moghul Garden Vegetable Platter (Moghul Garden)\n",
      "    * Coastal Spice Route Prawn Curry (Coastal Spice Route)\n",
      "    * Himalayan Hearth Vegetable Momo (Himalayan Hearth)\n",
      "    * Ganges River-Style Fish Cakes (Ganges Table)\n",
      "\n",
      "\n",
      "**Main Courses:**\n",
      "\n",
      "* **Elegant & Luxurious Style:**\n",
      "    * Emperor's Rogan Josh (lamb curry)\n",
      "    * Empress's Butter Chicken (classic, but elevated)\n",
      "    * Sapphire-Infused Shrimp Biryani\n",
      "    * Ruby-Red Dal Makhani (black lentils)\n",
      "    * Celestial Lamb Korma (creamy, rich curry)\n",
      "\n",
      "\n",
      "* **Regional Styles:**\n",
      "    * Malabar Coastal Fish Fry (Malabar Pavilion)\n",
      "    * Hyderabadi Dum Biryani (Moghul Garden)\n",
      "    * Goan Fish Curry with Coconut Milk (Coastal Spice Route)\n",
      "    * Himalayan Spiced Chicken with Buckwheat (Himalayan Hearth)\n",
      "    * Bengali Fish Paturi (steamed fish) (Ganges Table)\n",
      "\n",
      "\n",
      "**Desserts:**\n",
      "\n",
      "* **Elegant & Luxurious Style:**\n",
      "    * Saffron & Rosewater Kulfi (Indian ice cream)\n",
      "    * Jewel-Toned Mango Lassi\n",
      "    * Maharaja's Gulab Jamun (milk-solid dumplings)\n",
      "    * Royal Falooda (layered dessert)\n",
      "    * Amber-Glazed Pistachio Cake\n",
      "\n",
      "\n",
      "Remember to use high-quality ingredients and plating to match the elegance of the names.  The descriptions on the menu should further enhance the luxurious feel.  For example, instead of just \"Butter Chicken,\" you might have \"Creamy Tandoor-Roasted Chicken in a Saffron-Infused Tomato Sauce, garnished with fresh cilantro.\"\n"
     ]
    }
   ],
   "source": [
    "from langchain.chains import SimpleSequentialChain\n",
    "\n",
    "chain = SimpleSequentialChain(chains=[name_chain, fooditem_chain])\n",
    "response= chain.run(\"Indian\")\n",
    "print(response)"
   ]
  },
  {
   "cell_type": "code",
   "execution_count": 12,
   "id": "b4631257",
   "metadata": {},
   "outputs": [],
   "source": [
    "llm = ChatGoogleGenerativeAI(model=\"gemini-1.5-flash\", temperature=0.6)\n",
    "\n",
    "prompt_template_name= PromptTemplate(\n",
    "    input_variables=[ \"cuisine\"],\n",
    "    template=\"I want to open a restaurant for {cuisine} food. Suggest a fancy name for this.\"\n",
    ")\n",
    "name_chain = LLMChain(llm=llm, prompt=prompt_template_name,output_key=\"restaurant_name\")\n",
    "\n",
    "\n",
    "\n",
    "llm = ChatGoogleGenerativeAI(model=\"gemini-1.5-flash\", temperature=0.6)\n",
    "\n",
    "prompt_template_name= PromptTemplate(\n",
    "    input_variables=[ \"restaurant_name\"],\n",
    "    template=\"suggest some menu items for {restaurant_name} food. Suggest only one fancy name for this.\"\n",
    ")\n",
    "fooditem_chain = LLMChain(llm=llm, prompt=prompt_template_name, output_key=\"menu_items\")"
   ]
  },
  {
   "cell_type": "code",
   "execution_count": 13,
   "id": "05feff28",
   "metadata": {},
   "outputs": [
    {
     "name": "stderr",
     "output_type": "stream",
     "text": [
      "C:\\Users\\ASUS\\AppData\\Local\\Temp\\ipykernel_22720\\2399545839.py:8: LangChainDeprecationWarning: The method `Chain.__call__` was deprecated in langchain 0.1.0 and will be removed in 1.0. Use :meth:`~invoke` instead.\n",
      "  chain({\"cuisine\": \"Indian\"})\n"
     ]
    },
    {
     "data": {
      "text/plain": [
       "{'cuisine': 'Indian',\n",
       " 'restaurant_name': '## Fancy Names for an Indian Restaurant:\\n\\n**Evoking Luxury & Elegance:**\\n\\n* The Saffron Thread\\n* Jewel of the Ganges\\n* The Maharaja\\'s Table\\n* Amber & Spice\\n* The Gilded Curry\\n* Royal Tamarind\\n* The Spice Route Palace\\n* Celestial Curry\\n* The Emerald Kitchen\\n* Agra\\'s Embrace\\n\\n**Highlighting Specific Cuisines/Regions:**\\n\\n* The Kashmiri Kitchen (if specializing in Kashmiri food)\\n* The Malabar Coast (if specializing in South Indian coastal cuisine)\\n* The Himalayan Hearth (if specializing in Himalayan cuisine)\\n* The Royal Bengal (if specializing in Bengali cuisine)\\n\\n\\n**More Modern & Evocative Names:**\\n\\n* Rasa (meaning \"taste\" or \"essence\" in Sanskrit)\\n* Agni (meaning \"fire\" in Sanskrit)\\n* Amrit (meaning \"nectar of immortality\" in Sanskrit)\\n* Ananta (meaning \"infinite\" or \"endless\" in Sanskrit)\\n*  Masala Moon\\n*  Spice & Soul\\n*  The Curry Leaf\\n*  Turmeric & Thyme\\n\\n\\n**Tips for Choosing:**\\n\\n* **Check for availability:** Make sure the name isn\\'t already in use and that the domain name is available.\\n* **Keep it concise and memorable:**  Shorter names are easier to remember and pronounce.\\n* **Consider your target audience:**  The name should reflect the style and price point of your restaurant.\\n* **Test it out:** Get feedback from potential customers on your favorite names.\\n\\n\\nRemember to also check for trademark availability before settling on a name.  Good luck with your restaurant!',\n",
       " 'menu_items': '**Celestial Spiced Delights**'}"
      ]
     },
     "execution_count": 13,
     "metadata": {},
     "output_type": "execute_result"
    }
   ],
   "source": [
    "from langchain.chains import SequentialChain\n",
    "\n",
    "chain = SequentialChain(\n",
    "    chains=[name_chain, fooditem_chain],\n",
    "    input_variables=[\"cuisine\"],\n",
    "    output_variables=[\"restaurant_name\", \"menu_items\"],\n",
    "    )\n",
    "chain({\"cuisine\": \"Indian\"})"
   ]
  },
  {
   "cell_type": "markdown",
   "id": "11e61118",
   "metadata": {},
   "source": [
    "# AI AGNETS"
   ]
  },
  {
   "cell_type": "code",
   "execution_count": 17,
   "id": "5ac2adb1",
   "metadata": {},
   "outputs": [
    {
     "name": "stdout",
     "output_type": "stream",
     "text": [
      "Requirement already satisfied: wikipedia in e:\\gen-ai\\env\\lib\\site-packages (1.4.0)\n",
      "Requirement already satisfied: beautifulsoup4 in e:\\gen-ai\\env\\lib\\site-packages (from wikipedia) (4.13.4)\n",
      "Requirement already satisfied: requests<3.0.0,>=2.0.0 in e:\\gen-ai\\env\\lib\\site-packages (from wikipedia) (2.32.4)\n",
      "Requirement already satisfied: charset_normalizer<4,>=2 in e:\\gen-ai\\env\\lib\\site-packages (from requests<3.0.0,>=2.0.0->wikipedia) (3.4.3)\n",
      "Requirement already satisfied: idna<4,>=2.5 in e:\\gen-ai\\env\\lib\\site-packages (from requests<3.0.0,>=2.0.0->wikipedia) (3.10)\n",
      "Requirement already satisfied: urllib3<3,>=1.21.1 in e:\\gen-ai\\env\\lib\\site-packages (from requests<3.0.0,>=2.0.0->wikipedia) (2.5.0)\n",
      "Requirement already satisfied: certifi>=2017.4.17 in e:\\gen-ai\\env\\lib\\site-packages (from requests<3.0.0,>=2.0.0->wikipedia) (2025.8.3)\n",
      "Requirement already satisfied: soupsieve>1.2 in e:\\gen-ai\\env\\lib\\site-packages (from beautifulsoup4->wikipedia) (2.7)\n",
      "Requirement already satisfied: typing-extensions>=4.0.0 in e:\\gen-ai\\env\\lib\\site-packages (from beautifulsoup4->wikipedia) (4.14.1)\n"
     ]
    },
    {
     "name": "stderr",
     "output_type": "stream",
     "text": [
      "\n",
      "[notice] A new release of pip is available: 25.1.1 -> 25.2\n",
      "[notice] To update, run: python.exe -m pip install --upgrade pip\n"
     ]
    },
    {
     "name": "stdout",
     "output_type": "stream",
     "text": [
      "Collecting numexpr\n",
      "  Downloading numexpr-2.11.0-cp313-cp313-win_amd64.whl.metadata (9.2 kB)\n",
      "Requirement already satisfied: numpy>=1.23.0 in e:\\gen-ai\\env\\lib\\site-packages (from numexpr) (2.3.2)\n",
      "Downloading numexpr-2.11.0-cp313-cp313-win_amd64.whl (146 kB)\n",
      "Installing collected packages: numexpr\n",
      "Successfully installed numexpr-2.11.0\n"
     ]
    },
    {
     "name": "stderr",
     "output_type": "stream",
     "text": [
      "\n",
      "[notice] A new release of pip is available: 25.1.1 -> 25.2\n",
      "[notice] To update, run: python.exe -m pip install --upgrade pip\n"
     ]
    }
   ],
   "source": [
    "! pip install wikipedia\n",
    "! pip install numexpr\n"
   ]
  },
  {
   "cell_type": "code",
   "execution_count": 19,
   "id": "2f7a5f0b",
   "metadata": {},
   "outputs": [
    {
     "name": "stdout",
     "output_type": "stream",
     "text": [
      "\n",
      "\n",
      "\u001b[1m> Entering new AgentExecutor chain...\u001b[0m\n",
      "\u001b[32;1m\u001b[1;3mThought: I need to find the capital of India and its population. Wikipedia should be able to provide this information.\n",
      "\n",
      "Action: wikipedia\n",
      "Action Input: Capital of India\u001b[0m\n",
      "Observation: \u001b[36;1m\u001b[1;3mPage: List of capitals of India\n",
      "Summary: This is a list of locations which have served as capital cities in India. The current capital city is New Delhi, which replaced Calcutta in 1911.\n",
      "\n",
      "\n",
      "\n",
      "Page: National Capital Region (India)\n",
      "Summary: The National Capital Region (NCR; Rāṣṭrīya Rājadhānī Kṣētra) is a region centred upon the National Capital Territory (NCT) of Delhi in India. It encompasses Delhi and several districts surrounding it from the states of Haryana, Uttar Pradesh, and Rajasthan. The NCR and the associated National Capital Region Planning Board (NCRPB) were created in 1985 to plan the development of the region and to evolve harmonized policies for the control of land-uses and development of infrastructure in the region. Prominent cities of the NCR include Delhi, Faridabad, Ghaziabad, Gurgaon and Noida.\n",
      "The NCR is a rural-urban region, with a population of over 46,069,000 and an urbanisation level of 62.6%. As well as cities and towns, the NCR contains ecologically sensitive areas like the Aravalli ridge, forests, wildlife and bird sanctuaries. The Delhi Extended Urban Agglomeration, a part of the NCR, had an estimated GDP of $370 billion (measured in terms of GDP PPP) in 2015–16.\n",
      "Despite being a part of the NCR, the Government of India's think tank, NITI Aayog, listed the Nuh district of Haryana as the most underdeveloped compared to all of India's 739 districts.\n",
      "\n",
      "\n",
      "\n",
      "Page: Delhi\n",
      "Summary: Delhi, officially the National Capital Territory (NCT) of Delhi, is a city and a union territory of India containing New Delhi, the capital of India. Straddling the Yamuna river, but spread chiefly to the west, or beyond its right bank, Delhi shares borders with the state of Uttar Pradesh in the east and with the state of Haryana in the remaining directions. Delhi became a union territory on 1 November 1956 and the NCT in 1995. The NCT covers an area of 1,484 square kilometres (573 sq mi). According to the 2011 census, Delhi's city proper population was over 11 million, while the NCT's population was about 16.8 million.\n",
      "The topography of the medieval fort Purana Qila on the banks of the river Yamuna matches the literary description of the citadel Indraprastha in the Sanskrit epic Mahabharata; however, excavations in the area have revealed no signs of an ancient built environment. From the early 13th century until the mid-19th century, Delhi was the capital of two major empires, the Delhi Sultanate and the Mughal Empire, which covered large parts of South Asia. All three UNESCO World Heritage Sites in the city, the Qutub Minar, Humayun's Tomb, and the Red Fort, belong to this period. Delhi was the early centre of Sufism and Qawwali music. The names of Nizamuddin Auliya and Amir Khusrau are prominently associated with it. The Khariboli dialect of Delhi was part of a linguistic development that gave rise to the literature of Urdu and later Modern Standard Hindi. Major Urdu poets from Delhi include Mir Taqi Mir and Mirza Ghalib. Delhi was a notable centre of the Indian Rebellion of 1857. In 1911, New Delhi, a southern region within Delhi, became the capital of the British Indian Empire. During the Partition of India in 1947, Delhi was transformed from a Mughal city to a Punjabi one, losing two-thirds of its Muslim residents, in part due to the pressure brought to bear by arriving Hindu and Sikh refugees from western Punjab. After independence in 1947, New Delhi continued as the capital of the Dominion of India, and after 1950 of the Republic of India.\n",
      "Delhi's urban agglomeration, which includes the satellite cities of Gurgaon, Noida, Greater Noida, Ghaziabad, Faridabad, and YEIDA City located in an area known as the National Capital Region (NCR), has an estimated population of over 28 million, making it the largest metropolitan area in India and the second-largest in the world (after Tokyo). Delhi ranks fifth among the Indian states and union territories in human development index, and has the second-highest GDP per capita in India (after\u001b[0m\n",
      "Thought:\u001b[32;1m\u001b[1;3mThought: I need to find the population of Delhi.  The Wikipedia article gives conflicting numbers.  I'll try to clarify.\n",
      "\n",
      "Action: wikipedia\n",
      "Action Input: Population of Delhi\u001b[0m\n",
      "Observation: \u001b[36;1m\u001b[1;3mPage: Delhi\n",
      "Summary: Delhi, officially the National Capital Territory (NCT) of Delhi, is a city and a union territory of India containing New Delhi, the capital of India. Straddling the Yamuna river, but spread chiefly to the west, or beyond its right bank, Delhi shares borders with the state of Uttar Pradesh in the east and with the state of Haryana in the remaining directions. Delhi became a union territory on 1 November 1956 and the NCT in 1995. The NCT covers an area of 1,484 square kilometres (573 sq mi). According to the 2011 census, Delhi's city proper population was over 11 million, while the NCT's population was about 16.8 million.\n",
      "The topography of the medieval fort Purana Qila on the banks of the river Yamuna matches the literary description of the citadel Indraprastha in the Sanskrit epic Mahabharata; however, excavations in the area have revealed no signs of an ancient built environment. From the early 13th century until the mid-19th century, Delhi was the capital of two major empires, the Delhi Sultanate and the Mughal Empire, which covered large parts of South Asia. All three UNESCO World Heritage Sites in the city, the Qutub Minar, Humayun's Tomb, and the Red Fort, belong to this period. Delhi was the early centre of Sufism and Qawwali music. The names of Nizamuddin Auliya and Amir Khusrau are prominently associated with it. The Khariboli dialect of Delhi was part of a linguistic development that gave rise to the literature of Urdu and later Modern Standard Hindi. Major Urdu poets from Delhi include Mir Taqi Mir and Mirza Ghalib. Delhi was a notable centre of the Indian Rebellion of 1857. In 1911, New Delhi, a southern region within Delhi, became the capital of the British Indian Empire. During the Partition of India in 1947, Delhi was transformed from a Mughal city to a Punjabi one, losing two-thirds of its Muslim residents, in part due to the pressure brought to bear by arriving Hindu and Sikh refugees from western Punjab. After independence in 1947, New Delhi continued as the capital of the Dominion of India, and after 1950 of the Republic of India.\n",
      "Delhi's urban agglomeration, which includes the satellite cities of Gurgaon, Noida, Greater Noida, Ghaziabad, Faridabad, and YEIDA City located in an area known as the National Capital Region (NCR), has an estimated population of over 28 million, making it the largest metropolitan area in India and the second-largest in the world (after Tokyo). Delhi ranks fifth among the Indian states and union territories in human development index, and has the second-highest GDP per capita in India (after Goa). Although a union territory, the political administration of the NCT of Delhi today more closely resembles that of a state of India, with its own legislature, high court and an executive council of ministers headed by a chief minister. New Delhi is jointly administered by the federal government of India and the local government of Delhi, and serves as the capital of the nation as well as the NCT of Delhi. Delhi is also the centre of the National Capital Region, which is an \"interstate regional planning\" area created in 1985. Delhi hosted the inaugural 1951 Asian Games, the 1982 Asian Games, the 1983 Non-Aligned Movement summit, the 2010 Men's Hockey World Cup, the 2010 Commonwealth Games, the 2012 BRICS summit, the 2023 G20 summit, and was one of the major host cities of the 2011 and 2023 Cricket World Cups.\n",
      "\n",
      "Page: List of cities in Delhi by population\n",
      "Summary: The constituent parts of the National Capital Territory of Delhi form an urban agglomeration. In the census of India 2011, an urban agglomeration (UA) was defined as follows:\n",
      "\"An urban agglomeration is a continuous urban spread constituting a town and its adjoining outgrowths (OGs), or two or more physically contiguous towns together with or without outgrowths of such towns. An Urban Agglomeration must consist of at least a statutory town and its total population (i.e. all the constituents put together) should not\u001b[0m\n",
      "Thought:\u001b[32;1m\u001b[1;3mThought:The Wikipedia article gives multiple population figures for Delhi, depending on what area is included (city proper, NCT, or urban agglomeration).  I need to specify which population I want to report.\n",
      "\n",
      "Thought:I will report the population of the NCT of Delhi, as that is the most relevant figure for the capital city.\n",
      "\n",
      "Thought:I now know the final answer.\n",
      "\n",
      "Final Answer: The capital of India is New Delhi.  The population of the National Capital Territory (NCT) of Delhi was approximately 16.8 million according to the 2011 census.  Note that the Delhi urban agglomeration has a much larger population (over 28 million).\u001b[0m\n",
      "\n",
      "\u001b[1m> Finished chain.\u001b[0m\n"
     ]
    },
    {
     "data": {
      "text/plain": [
       "'The capital of India is New Delhi.  The population of the National Capital Territory (NCT) of Delhi was approximately 16.8 million according to the 2011 census.  Note that the Delhi urban agglomeration has a much larger population (over 28 million).'"
      ]
     },
     "execution_count": 19,
     "metadata": {},
     "output_type": "execute_result"
    }
   ],
   "source": [
    "from langchain.agents import AgentType,initialize_agent,load_tools\n",
    "from langchain_google_genai import ChatGoogleGenerativeAI\n",
    "\n",
    "tools = load_tools([\"wikipedia\",'llm-math'], llm=llm)\n",
    "\n",
    "agent=initialize_agent(\n",
    "    agent_type=AgentType.ZERO_SHOT_REACT_DESCRIPTION,\n",
    "    tools=tools,\n",
    "    llm=llm,\n",
    "    verbose=True\n",
    ")\n",
    "\n",
    "agent.run(\"What is the capital of India? How many people live there?\")"
   ]
  },
  {
   "cell_type": "code",
   "execution_count": 20,
   "id": "70d8c16a",
   "metadata": {},
   "outputs": [
    {
     "data": {
      "text/plain": [
       "['InputType',\n",
       " 'OutputType',\n",
       " '__abstractmethods__',\n",
       " '__annotations__',\n",
       " '__call__',\n",
       " '__class__',\n",
       " '__class_getitem__',\n",
       " '__class_vars__',\n",
       " '__copy__',\n",
       " '__deepcopy__',\n",
       " '__delattr__',\n",
       " '__dict__',\n",
       " '__dir__',\n",
       " '__doc__',\n",
       " '__eq__',\n",
       " '__fields__',\n",
       " '__fields_set__',\n",
       " '__firstlineno__',\n",
       " '__format__',\n",
       " '__ge__',\n",
       " '__get_pydantic_core_schema__',\n",
       " '__get_pydantic_json_schema__',\n",
       " '__getattr__',\n",
       " '__getattribute__',\n",
       " '__getstate__',\n",
       " '__gt__',\n",
       " '__hash__',\n",
       " '__init__',\n",
       " '__init_subclass__',\n",
       " '__iter__',\n",
       " '__le__',\n",
       " '__lt__',\n",
       " '__module__',\n",
       " '__ne__',\n",
       " '__new__',\n",
       " '__or__',\n",
       " '__orig_bases__',\n",
       " '__parameters__',\n",
       " '__pretty__',\n",
       " '__private_attributes__',\n",
       " '__pydantic_complete__',\n",
       " '__pydantic_computed_fields__',\n",
       " '__pydantic_core_schema__',\n",
       " '__pydantic_custom_init__',\n",
       " '__pydantic_decorators__',\n",
       " '__pydantic_extra__',\n",
       " '__pydantic_fields__',\n",
       " '__pydantic_fields_set__',\n",
       " '__pydantic_generic_metadata__',\n",
       " '__pydantic_init_subclass__',\n",
       " '__pydantic_parent_namespace__',\n",
       " '__pydantic_post_init__',\n",
       " '__pydantic_private__',\n",
       " '__pydantic_root_model__',\n",
       " '__pydantic_serializer__',\n",
       " '__pydantic_setattr_handlers__',\n",
       " '__pydantic_validator__',\n",
       " '__reduce__',\n",
       " '__reduce_ex__',\n",
       " '__replace__',\n",
       " '__repr__',\n",
       " '__repr_args__',\n",
       " '__repr_name__',\n",
       " '__repr_recursion__',\n",
       " '__repr_str__',\n",
       " '__rich_repr__',\n",
       " '__ror__',\n",
       " '__setattr__',\n",
       " '__setstate__',\n",
       " '__signature__',\n",
       " '__sizeof__',\n",
       " '__slots__',\n",
       " '__static_attributes__',\n",
       " '__str__',\n",
       " '__subclasshook__',\n",
       " '__weakref__',\n",
       " '_abatch_with_config',\n",
       " '_abc_impl',\n",
       " '_acall',\n",
       " '_acall_with_config',\n",
       " '_atransform_stream_with_config',\n",
       " '_batch_with_config',\n",
       " '_calculate_keys',\n",
       " '_call',\n",
       " '_call_with_config',\n",
       " '_chain_type',\n",
       " '_copy_and_set_values',\n",
       " '_get_value',\n",
       " '_iter',\n",
       " '_run_output_key',\n",
       " '_setattr_handler',\n",
       " '_transform_stream_with_config',\n",
       " '_validate_inputs',\n",
       " '_validate_outputs',\n",
       " 'abatch',\n",
       " 'abatch_as_completed',\n",
       " 'acall',\n",
       " 'ainvoke',\n",
       " 'apply',\n",
       " 'aprep_inputs',\n",
       " 'aprep_outputs',\n",
       " 'arun',\n",
       " 'as_tool',\n",
       " 'assign',\n",
       " 'astream',\n",
       " 'astream_events',\n",
       " 'astream_log',\n",
       " 'atransform',\n",
       " 'batch',\n",
       " 'batch_as_completed',\n",
       " 'bind',\n",
       " 'callback_manager',\n",
       " 'callbacks',\n",
       " 'chains',\n",
       " 'config_schema',\n",
       " 'config_specs',\n",
       " 'configurable_alternatives',\n",
       " 'configurable_fields',\n",
       " 'construct',\n",
       " 'copy',\n",
       " 'dict',\n",
       " 'from_orm',\n",
       " 'get_config_jsonschema',\n",
       " 'get_graph',\n",
       " 'get_input_jsonschema',\n",
       " 'get_input_schema',\n",
       " 'get_lc_namespace',\n",
       " 'get_name',\n",
       " 'get_output_jsonschema',\n",
       " 'get_output_schema',\n",
       " 'get_prompts',\n",
       " 'input_keys',\n",
       " 'input_schema',\n",
       " 'input_variables',\n",
       " 'invoke',\n",
       " 'is_lc_serializable',\n",
       " 'json',\n",
       " 'lc_attributes',\n",
       " 'lc_id',\n",
       " 'lc_secrets',\n",
       " 'map',\n",
       " 'memory',\n",
       " 'metadata',\n",
       " 'model_computed_fields',\n",
       " 'model_config',\n",
       " 'model_construct',\n",
       " 'model_copy',\n",
       " 'model_dump',\n",
       " 'model_dump_json',\n",
       " 'model_extra',\n",
       " 'model_fields',\n",
       " 'model_fields_set',\n",
       " 'model_json_schema',\n",
       " 'model_parametrized_name',\n",
       " 'model_post_init',\n",
       " 'model_rebuild',\n",
       " 'model_validate',\n",
       " 'model_validate_json',\n",
       " 'model_validate_strings',\n",
       " 'name',\n",
       " 'output_keys',\n",
       " 'output_schema',\n",
       " 'output_variables',\n",
       " 'parse_file',\n",
       " 'parse_obj',\n",
       " 'parse_raw',\n",
       " 'pick',\n",
       " 'pipe',\n",
       " 'prep_inputs',\n",
       " 'prep_outputs',\n",
       " 'raise_callback_manager_deprecation',\n",
       " 'return_all',\n",
       " 'run',\n",
       " 'save',\n",
       " 'schema',\n",
       " 'schema_json',\n",
       " 'set_verbose',\n",
       " 'stream',\n",
       " 'tags',\n",
       " 'to_json',\n",
       " 'to_json_not_implemented',\n",
       " 'transform',\n",
       " 'update_forward_refs',\n",
       " 'validate',\n",
       " 'validate_chains',\n",
       " 'verbose',\n",
       " 'with_alisteners',\n",
       " 'with_config',\n",
       " 'with_fallbacks',\n",
       " 'with_listeners',\n",
       " 'with_retry',\n",
       " 'with_types']"
      ]
     },
     "execution_count": 20,
     "metadata": {},
     "output_type": "execute_result"
    }
   ],
   "source": [
    "dir(chain)"
   ]
  },
  {
   "cell_type": "code",
   "execution_count": 21,
   "id": "e6f445b5",
   "metadata": {},
   "outputs": [],
   "source": [
    "# MEMOry"
   ]
  },
  {
   "cell_type": "code",
   "execution_count": 32,
   "id": "5bf1963e",
   "metadata": {},
   "outputs": [
    {
     "name": "stdout",
     "output_type": "stream",
     "text": [
      "**Menu Items:**\n",
      "\n",
      "* **Saoji Mutton:** Slow-cooked mutton in a rich, spicy Saoji gravy.\n",
      "* **Saoji Chicken:**  Chicken prepared in the signature Saoji style, featuring a blend of fiery spices.\n",
      "* **Saoji Vegetable:** A mixed vegetable preparation with the characteristic Saoji spice blend (could include potatoes, peas, beans, etc.).\n",
      "* **Saoji Fish:**  (If available) Fish cooked in a Saoji gravy, often featuring tamarind and kokum for tanginess.\n",
      "* **Saoji Biryani:**  A fragrant biryani infused with Saoji spices and possibly featuring mutton or chicken.\n",
      "* **Saoji Dal:**  A lentil preparation with the signature Saoji spice profile.\n",
      "* **Saoji Roti/Bhakri:** Traditional flatbreads to accompany the Saoji dishes.\n",
      "* **Saoji Kheer:** A sweet rice pudding, perhaps with cardamom and saffron.\n",
      "\n",
      "\n",
      "**Fancy Name for the Restaurant:**\n",
      "\n",
      "**The Saffron & Spice Route**\n"
     ]
    }
   ],
   "source": [
    "from langchain.memory import ConversationBufferMemory\n",
    "memory=ConversationBufferMemory()\n",
    "\n",
    "chain=LLMChain(llm=llm, prompt=prompt_template_name, memory=memory)\n",
    "name=chain.run(\"saoji\")\n",
    "print(name)"
   ]
  },
  {
   "cell_type": "code",
   "execution_count": 33,
   "id": "f3b220d5",
   "metadata": {},
   "outputs": [
    {
     "name": "stdout",
     "output_type": "stream",
     "text": [
      "**Menu Items:**\n",
      "\n",
      "* **Appetizer:**  Spiced Lamb Samosas with Tamarind Chutney & Mint Yogurt\n",
      "* **Soup:** Creamy Tomato Shorba with Saffron & Cilantro\n",
      "* **Salad:**  Roasted Beetroot & Carrot Salad with Toasted Coconut & Lime Dressing\n",
      "* **Main Course (Vegetarian):**  Saffron-infused Vegetable Biryani with Raita\n",
      "* **Main Course (Non-Vegetarian):**  Tandoori Chicken Tikka Masala with Garlic Naan\n",
      "* **Side Dish:**  Aloo Gobi (Potato & Cauliflower Curry)\n",
      "* **Dessert:**  Mango Kulfi with Pistachios\n",
      "\n",
      "\n",
      "**Fancy Name for the Restaurant:**  **The Saffron Spice**\n"
     ]
    }
   ],
   "source": [
    "name=chain.run(\"Indian\")\n",
    "print(name)"
   ]
  },
  {
   "cell_type": "code",
   "execution_count": 34,
   "id": "0f78f818",
   "metadata": {},
   "outputs": [
    {
     "name": "stdout",
     "output_type": "stream",
     "text": [
      "**Menu Items:**\n",
      "\n",
      "* **Antipasto:** Bruschetta with heirloom tomatoes and basil,  White bean and artichoke dip with crostini, Prosciutto-wrapped melon\n",
      "* **Primo:** Lobster ravioli in a saffron cream sauce,  Handmade tagliatelle with wild mushroom ragu,  Orecchiette with broccoli rabe and sausage\n",
      "* **Secondo:** Pan-seared scallops with lemon butter sauce,  Grilled lamb chops with rosemary and garlic,  Osso buco with gremolata\n",
      "* **Contorno:** Roasted asparagus with parmesan,  Caprese salad,  Sauteed spinach with garlic\n",
      "* **Dolce:**  Tiramisu,  Cannoli,  Lemoncello panna cotta\n",
      "\n",
      "\n",
      "**Fancy Name for the Restaurant:**  \"La Dolce Vita Trattoria\"\n"
     ]
    }
   ],
   "source": [
    "name=chain.run(\"italian\")\n",
    "print(name)"
   ]
  },
  {
   "cell_type": "code",
   "execution_count": 35,
   "id": "97690d62",
   "metadata": {},
   "outputs": [
    {
     "name": "stdout",
     "output_type": "stream",
     "text": [
      "Human: saoji\n",
      "AI: **Menu Items:**\n",
      "\n",
      "* **Saoji Mutton:** Slow-cooked mutton in a rich, spicy Saoji gravy.\n",
      "* **Saoji Chicken:**  Chicken prepared in the signature Saoji style, featuring a blend of fiery spices.\n",
      "* **Saoji Vegetable:** A mixed vegetable preparation with the characteristic Saoji spice blend (could include potatoes, peas, beans, etc.).\n",
      "* **Saoji Fish:**  (If available) Fish cooked in a Saoji gravy, often featuring tamarind and kokum for tanginess.\n",
      "* **Saoji Biryani:**  A fragrant biryani infused with Saoji spices and possibly featuring mutton or chicken.\n",
      "* **Saoji Dal:**  A lentil preparation with the signature Saoji spice profile.\n",
      "* **Saoji Roti/Bhakri:** Traditional flatbreads to accompany the Saoji dishes.\n",
      "* **Saoji Kheer:** A sweet rice pudding, perhaps with cardamom and saffron.\n",
      "\n",
      "\n",
      "**Fancy Name for the Restaurant:**\n",
      "\n",
      "**The Saffron & Spice Route**\n",
      "Human: Indian\n",
      "AI: **Menu Items:**\n",
      "\n",
      "* **Appetizer:**  Spiced Lamb Samosas with Tamarind Chutney & Mint Yogurt\n",
      "* **Soup:** Creamy Tomato Shorba with Saffron & Cilantro\n",
      "* **Salad:**  Roasted Beetroot & Carrot Salad with Toasted Coconut & Lime Dressing\n",
      "* **Main Course (Vegetarian):**  Saffron-infused Vegetable Biryani with Raita\n",
      "* **Main Course (Non-Vegetarian):**  Tandoori Chicken Tikka Masala with Garlic Naan\n",
      "* **Side Dish:**  Aloo Gobi (Potato & Cauliflower Curry)\n",
      "* **Dessert:**  Mango Kulfi with Pistachios\n",
      "\n",
      "\n",
      "**Fancy Name for the Restaurant:**  **The Saffron Spice**\n",
      "Human: italian\n",
      "AI: **Menu Items:**\n",
      "\n",
      "* **Antipasto:** Bruschetta with heirloom tomatoes and basil,  White bean and artichoke dip with crostini, Prosciutto-wrapped melon\n",
      "* **Primo:** Lobster ravioli in a saffron cream sauce,  Handmade tagliatelle with wild mushroom ragu,  Orecchiette with broccoli rabe and sausage\n",
      "* **Secondo:** Pan-seared scallops with lemon butter sauce,  Grilled lamb chops with rosemary and garlic,  Osso buco with gremolata\n",
      "* **Contorno:** Roasted asparagus with parmesan,  Caprese salad,  Sauteed spinach with garlic\n",
      "* **Dolce:**  Tiramisu,  Cannoli,  Lemoncello panna cotta\n",
      "\n",
      "\n",
      "**Fancy Name for the Restaurant:**  \"La Dolce Vita Trattoria\"\n"
     ]
    }
   ],
   "source": [
    "print(chain.memory.buffer)"
   ]
  },
  {
   "cell_type": "code",
   "execution_count": 40,
   "id": "c097e633",
   "metadata": {},
   "outputs": [
    {
     "name": "stdout",
     "output_type": "stream",
     "text": [
      "The following is a friendly conversation between a human and an AI. The AI is talkative and provides lots of specific details from its context. If the AI does not know the answer to a question, it truthfully says it does not know.\n",
      "\n",
      "Current conversation:\n",
      "{history}\n",
      "Human: {input}\n",
      "AI:\n"
     ]
    }
   ],
   "source": [
    "from langchain.chains import ConversationChain\n",
    "\n",
    "convo= ConversationChain(llm = ChatGoogleGenerativeAI(temperature=0.6, model=\"gemini-1.5-flash\"))\n",
    "print(convo.prompt.template)"
   ]
  },
  {
   "cell_type": "code",
   "execution_count": 41,
   "id": "18d8cd00",
   "metadata": {},
   "outputs": [
    {
     "data": {
      "text/plain": [
       "'The capital of India is New Delhi.  Determining the exact population of New Delhi is tricky because the definition of \"New Delhi\" can be fluid, encompassing different administrative areas.  Sometimes it\\'s used interchangeably with the National Capital Territory of Delhi (NCT), which includes areas beyond what\\'s strictly considered \"New Delhi.\"\\n\\nThe NCT of Delhi had a population estimated at around 30 million people according to the 2021 census.  However, this includes the entire NCT, not just the area specifically designated as New Delhi.  Finding a precise population figure for *only* New Delhi is difficult; official statistics tend to focus on the larger NCT region.  Therefore, while the NCT of Delhi has roughly 30 million people, I cannot give you a precise population number for New Delhi itself.'"
      ]
     },
     "execution_count": 41,
     "metadata": {},
     "output_type": "execute_result"
    }
   ],
   "source": [
    "convo.run(\"What is the capital of India? How many people live there?\")"
   ]
  },
  {
   "cell_type": "code",
   "execution_count": 42,
   "id": "17b4526c",
   "metadata": {},
   "outputs": [
    {
     "data": {
      "text/plain": [
       "\"The largest mammal on Earth is the Antarctic blue whale ( *Balaenoptera musculus intermedia*).  While there's some debate about the exact size depending on individual whales and measurement techniques, Antarctic blue whales are generally considered larger than other blue whale subspecies.  They can reach lengths of up to 100 feet (30 meters) and weigh up to 200 tons (181 metric tons).  Their immense size is a result of their filter-feeding lifestyle in the productive Antarctic waters, allowing them to consume vast quantities of krill.\""
      ]
     },
     "execution_count": 42,
     "metadata": {},
     "output_type": "execute_result"
    }
   ],
   "source": [
    "convo.run(\"what is largest mammal on earth?\")"
   ]
  },
  {
   "cell_type": "code",
   "execution_count": 43,
   "id": "1edd4e1f",
   "metadata": {},
   "outputs": [
    {
     "data": {
      "text/plain": [
       "'5 + 8 = 13'"
      ]
     },
     "execution_count": 43,
     "metadata": {},
     "output_type": "execute_result"
    }
   ],
   "source": [
    "convo.run(\" what is 5+8?\")"
   ]
  },
  {
   "cell_type": "code",
   "execution_count": 46,
   "id": "ea756ecc",
   "metadata": {},
   "outputs": [
    {
     "name": "stdout",
     "output_type": "stream",
     "text": [
      "Human: What is the capital of India? How many people live there?\n",
      "AI: The capital of India is New Delhi.  Determining the exact population of New Delhi is tricky because the definition of \"New Delhi\" can be fluid, encompassing different administrative areas.  Sometimes it's used interchangeably with the National Capital Territory of Delhi (NCT), which includes areas beyond what's strictly considered \"New Delhi.\"\n",
      "\n",
      "The NCT of Delhi had a population estimated at around 30 million people according to the 2021 census.  However, this includes the entire NCT, not just the area specifically designated as New Delhi.  Finding a precise population figure for *only* New Delhi is difficult; official statistics tend to focus on the larger NCT region.  Therefore, while the NCT of Delhi has roughly 30 million people, I cannot give you a precise population number for New Delhi itself.\n",
      "Human: what is largest mammal on earth?\n",
      "AI: The largest mammal on Earth is the Antarctic blue whale ( *Balaenoptera musculus intermedia*).  While there's some debate about the exact size depending on individual whales and measurement techniques, Antarctic blue whales are generally considered larger than other blue whale subspecies.  They can reach lengths of up to 100 feet (30 meters) and weigh up to 200 tons (181 metric tons).  Their immense size is a result of their filter-feeding lifestyle in the productive Antarctic waters, allowing them to consume vast quantities of krill.\n",
      "Human:  what is 5+8?\n",
      "AI: 5 + 8 = 13\n"
     ]
    }
   ],
   "source": [
    "print(convo.memory.buffer)"
   ]
  },
  {
   "cell_type": "code",
   "execution_count": 47,
   "id": "6a7d2ffa",
   "metadata": {},
   "outputs": [],
   "source": [
    "# if we wanna specific window size that ai shall keep in memory we can use -->"
   ]
  },
  {
   "cell_type": "code",
   "execution_count": 60,
   "id": "ec96d7f6",
   "metadata": {},
   "outputs": [
    {
     "name": "stdout",
     "output_type": "stream",
     "text": [
      "The following is a friendly conversation between a human and an AI. The AI is talkative and provides lots of specific details from its context. If the AI does not know the answer to a question, it truthfully says it does not know.\n",
      "\n",
      "Current conversation:\n",
      "{history}\n",
      "Human: {input}\n",
      "AI:\n"
     ]
    }
   ],
   "source": [
    "from langchain.memory import ConversationBufferWindowMemory\n",
    "\n",
    "memory = ConversationBufferWindowMemory(k=1)\n",
    "\n",
    "convo= ConversationChain(llm = ChatGoogleGenerativeAI(temperature=0.6, model=\"gemini-1.5-flash\"),memory=memory)\n",
    "print(convo.prompt.template)"
   ]
  },
  {
   "cell_type": "code",
   "execution_count": 61,
   "id": "27262cb0",
   "metadata": {},
   "outputs": [
    {
     "data": {
      "text/plain": [
       "\"7 multiplied by 3 is 21.  That's a fundamental multiplication fact!  I can perform this calculation because it's within the range of basic arithmetic operations I'm programmed to handle.  More complex calculations, especially those involving very large numbers or specialized mathematical functions, would require more sophisticated algorithms, but this one was straightforward.\""
      ]
     },
     "execution_count": 61,
     "metadata": {},
     "output_type": "execute_result"
    }
   ],
   "source": [
    "convo.run(\"what is 7*3?\")"
   ]
  },
  {
   "cell_type": "code",
   "execution_count": 62,
   "id": "f17e7102",
   "metadata": {},
   "outputs": [
    {
     "data": {
      "text/plain": [
       "\"I do not have a name.  I am a large language model, and as such, I don't possess a personal identity or a name in the way a human does.  My purpose is to process information and respond to prompts, not to have a personal existence.  Think of me as a tool rather than a person.\""
      ]
     },
     "execution_count": 62,
     "metadata": {},
     "output_type": "execute_result"
    }
   ],
   "source": [
    "convo.run(\"what is you nsame?\")"
   ]
  },
  {
   "cell_type": "code",
   "execution_count": 63,
   "id": "3889c023",
   "metadata": {},
   "outputs": [
    {
     "data": {
      "text/plain": [
       "\"The first Cricket World Cup was won by the **West Indies** in 1975.  The final was played at Lord's Cricket Ground in London, and they defeated Australia by 17 runs.  Clive Lloyd was the captain of the West Indies team, and he was also named the Player of the Tournament.  The tournament itself was a significant event, marking the first time a Cricket World Cup was held, and it established the tournament as a major event in the cricketing calendar.  The West Indies' victory was a dominant one, showcasing their impressive batting and bowling prowess.\""
      ]
     },
     "execution_count": 63,
     "metadata": {},
     "output_type": "execute_result"
    }
   ],
   "source": [
    "convo.run(\"who wom the first cricjet worldcup?\")"
   ]
  },
  {
   "cell_type": "code",
   "execution_count": 64,
   "id": "88bba79a",
   "metadata": {},
   "outputs": [
    {
     "data": {
      "text/plain": [
       "\"The capital of India is **New Delhi**.  Determining the exact population is tricky, as population numbers fluctuate constantly.  However, according to the most recent reliable data I have access to, the population of Delhi (which includes New Delhi) is estimated to be in the range of **20-30 million people**.  It's important to note that this is an estimate, and different sources may provide slightly varying figures.  The population of Delhi is incredibly dynamic, with constant migration and changes in census data.\""
      ]
     },
     "execution_count": 64,
     "metadata": {},
     "output_type": "execute_result"
    }
   ],
   "source": [
    "convo.run(\"What is the capital of India? How many people live there?\")"
   ]
  },
  {
   "cell_type": "code",
   "execution_count": 65,
   "id": "a8e9921f",
   "metadata": {},
   "outputs": [
    {
     "data": {
      "text/plain": [
       "'I do not know who the last soldier was in Kargil.  The Kargil War involved a large number of soldiers from both India and Pakistan, and identifying a single \"last soldier\" is impossible and doesn\\'t really have a clear definition.  The war ended with a ceasefire, not a specific point where one soldier could be definitively identified as the last one remaining.'"
      ]
     },
     "execution_count": 65,
     "metadata": {},
     "output_type": "execute_result"
    }
   ],
   "source": [
    "convo.run(\"who was the last soldier in kargil\")"
   ]
  },
  {
   "cell_type": "code",
   "execution_count": 66,
   "id": "2c695091",
   "metadata": {},
   "outputs": [
    {
     "data": {
      "text/plain": [
       "'7 - 87 = -80'"
      ]
     },
     "execution_count": 66,
     "metadata": {},
     "output_type": "execute_result"
    }
   ],
   "source": [
    "convo.run(\"what is 7-87\")"
   ]
  },
  {
   "cell_type": "code",
   "execution_count": 67,
   "id": "5961e9d9",
   "metadata": {},
   "outputs": [
    {
     "data": {
      "text/plain": [
       "'AI:  I need more context to answer your question.  \"Winning captain\" of what?  A sports team? A game? A competition?  Please tell me more about the event you\\'re referring to.'"
      ]
     },
     "execution_count": 67,
     "metadata": {},
     "output_type": "execute_result"
    }
   ],
   "source": [
    "convo.run(\"name of winning captain?\")"
   ]
  },
  {
   "cell_type": "code",
   "execution_count": null,
   "id": "81eac5d0",
   "metadata": {},
   "outputs": [],
   "source": []
  },
  {
   "cell_type": "code",
   "execution_count": null,
   "id": "80911657",
   "metadata": {},
   "outputs": [],
   "source": [
    " "
   ]
  }
 ],
 "metadata": {
  "kernelspec": {
   "display_name": "env",
   "language": "python",
   "name": "python3"
  },
  "language_info": {
   "codemirror_mode": {
    "name": "ipython",
    "version": 3
   },
   "file_extension": ".py",
   "mimetype": "text/x-python",
   "name": "python",
   "nbconvert_exporter": "python",
   "pygments_lexer": "ipython3",
   "version": "3.13.5"
  }
 },
 "nbformat": 4,
 "nbformat_minor": 5
}
